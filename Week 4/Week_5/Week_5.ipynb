{
 "cells": [
  {
   "cell_type": "markdown",
   "metadata": {},
   "source": [
    "# Reshaping 3x4 array to 2x2x3 array"
   ]
  },
  {
   "cell_type": "code",
   "execution_count": 1,
   "metadata": {},
   "outputs": [
    {
     "name": "stdout",
     "output_type": "stream",
     "text": [
      "Original array:\n",
      " [1 2 3 4 5 6]\n",
      "--------------\n",
      "Reshaped array:\n",
      " [[1 2 3]\n",
      " [4 5 6]]\n"
     ]
    }
   ],
   "source": [
    "import numpy as np\n",
    "arr = np.array([1,2,3,4,5,6 ])\n",
    "\n",
    "\n",
    "newarr = arr.reshape(2,3)\n",
    "\n",
    "print(\"Original array:\\n\",arr)\n",
    "print(\"--------------\")\n",
    "print(\"Reshaped array:\\n\", newarr)"
   ]
  },
  {
   "cell_type": "markdown",
   "metadata": {},
   "source": [
    "### Flatten Array\n",
    "- Flatten method flattens array to one dimension and returns copy of collapsed array"
   ]
  },
  {
   "cell_type": "code",
   "execution_count": 2,
   "metadata": {},
   "outputs": [
    {
     "name": "stdout",
     "output_type": "stream",
     "text": [
      "Original array:\n",
      " [[1 2 3]\n",
      " [4 5 6]]\n",
      "Flattened array:\n",
      " [1 2 3 4 5 6]\n"
     ]
    }
   ],
   "source": [
    "arr = np.array([[1,2,3], [4,5,6]])\n",
    "flat_arr = arr.flatten()\n",
    "\n",
    "print(\"Original array:\\n\", arr)\n",
    "print(\"Flattened array:\\n\", flat_arr)"
   ]
  },
  {
   "cell_type": "markdown",
   "metadata": {},
   "source": [
    "# NumPy Array Indexing and slicing\n",
    "\n",
    "## Basic Indexing\n",
    "\n",
    "indexing allous us to access the individual elements or subsets of data"
   ]
  },
  {
   "cell_type": "code",
   "execution_count": 3,
   "metadata": {},
   "outputs": [
    {
     "name": "stdout",
     "output_type": "stream",
     "text": [
      "(6,)\n",
      "1\n",
      "6\n",
      "4\n",
      "print dimension of array\n",
      "2\n",
      "print shape of the array\n",
      "(3, 3)\n",
      "print total number of items\n",
      "9\n",
      "first row first element\n",
      "1\n",
      "last row last element\n",
      "8\n",
      "second row third element\n",
      "6\n",
      "third row second element\n",
      "7\n"
     ]
    }
   ],
   "source": [
    "# 1D Array Indexing\n",
    "arr = np.array([1,2,3,4,5,6])\n",
    "print(arr.shape)\n",
    "print(arr[0]) # first element\n",
    "print(arr[-1]) # last element\n",
    "print(arr[3]) #fourth element\n",
    "\n",
    "# 2D Array Inedxing \n",
    "num_2d_array = np.array([\n",
    "                        [1,2,3],\n",
    "                        [4,5,6],\n",
    "                        [6,7,8]\n",
    "                    ])\n",
    "print(\"print dimension of array\")\n",
    "print (num_2d_array.ndim) # print dimension of array \n",
    "print (\"print shape of the array\")\n",
    "print(num_2d_array.shape) # print shape of the array\n",
    "print(\"print total number of items\")\n",
    "print(num_2d_array.size) # print total number of items\n",
    "\n",
    "print(\"first row first element\")\n",
    "print(num_2d_array[0,0]) # first row first element\n",
    "print(\"last row last element\")\n",
    "print(num_2d_array[-1,-1]) # last row last element\n",
    "print(\"second row third element\")\n",
    "print(num_2d_array[1,2]) # second row third element\n",
    "print(\"third row second element\")\n",
    "print(num_2d_array[2,1]) # third row second element"
   ]
  },
  {
   "cell_type": "markdown",
   "metadata": {},
   "source": [
    "# Slicing in Numpy\n",
    "\n",
    "In NumPy we can access the position of an array using the slice operator `:`\n",
    "\n",
    "## 1- Array Slicing \n",
    "461\n",
    "Syntax: array`[start:stop:step]` \n",
    "- `start`: Index of the first element to be includes in slice\n",
    "- `stop`: Index of the last element (exclusive)\n",
    "- `step`: step size between each element in the slice"
   ]
  },
  {
   "cell_type": "code",
   "execution_count": 4,
   "metadata": {},
   "outputs": [
    {
     "name": "stdout",
     "output_type": "stream",
     "text": [
      "[3 4 5 6]\n",
      "[1 3 5 7]\n",
      "[ 5  6  7  8 10 11]\n",
      "[1 2 3 4 5]\n",
      "[11  8  6  4  2]\n",
      "[100 100 100 100 100   6   7   8  10  11]\n"
     ]
    }
   ],
   "source": [
    "arr = np.array([1,2,3,4,5,6,7,8,10,11])\n",
    "\n",
    "# slice array from index 2-6 (6 exclusive)\n",
    "print(arr[2:6])\n",
    "\n",
    "# slice array from 0 to 8 with a step size of 2\n",
    "print(arr[0:8:2])\n",
    "\n",
    "# slice array from index 4 to last element\n",
    "print(arr[4:])\n",
    "\n",
    "\n",
    "# slice array from start to 5th index(5th index excluded)\n",
    "print(arr[:5])\n",
    "\n",
    "#negative index\n",
    "print(arr[-1::-2]) # slice every second element from end to start\n",
    "\n",
    "\n",
    "# we can also modify the array with slicing \n",
    "arr[:5] = 100 # replace items from 0-5 with 100\n",
    "print(arr)"
   ]
  },
  {
   "cell_type": "markdown",
   "metadata": {},
   "source": [
    "# 2-D Array Slicing \n",
    "Syntax: `array[row_start:row_stop:rwo_step, col_start:col_stop:col_step]`"
   ]
  },
  {
   "cell_type": "code",
   "execution_count": 5,
   "metadata": {},
   "outputs": [
    {
     "name": "stdout",
     "output_type": "stream",
     "text": [
      "2\n",
      "[[1 2 3]]\n",
      "[[1 2]\n",
      " [4 5]]\n"
     ]
    }
   ],
   "source": [
    "array_2d = np.array([\n",
    "    [1,2,3],\n",
    "    [4,5,6],\n",
    "    [7,8,9]\n",
    "])\n",
    "print(array_2d.ndim)\n",
    "\n",
    "# slice forst row\n",
    "print(array_2d[0:1])\n",
    "\n",
    "# slice array form forst two rows and forst two columns\n",
    "\n",
    "print(array_2d[0:2, 0:2])"
   ]
  },
  {
   "cell_type": "markdown",
   "metadata": {},
   "source": [
    "## Boolean Array Indexing\n",
    "Boolean array indexing allows us to select elemts from an array based on conditions. This technique is helpful when we need to filter elemts based on certain condtion."
   ]
  },
  {
   "cell_type": "code",
   "execution_count": 6,
   "metadata": {},
   "outputs": [
    {
     "name": "stdout",
     "output_type": "stream",
     "text": [
      "[20 25 30]\n",
      "[10 20 30]\n",
      "[ 5 10 15 99 99 99]\n",
      "[5 6 7 8 9]\n",
      "[[1 2 3]\n",
      " [4 0 0]\n",
      " [0 0 0]]\n"
     ]
    }
   ],
   "source": [
    "# Creating an array\n",
    "arr = np.array([5,10,15,20,25,30])\n",
    "\n",
    "#Select elements greater than 15\n",
    "print(arr[arr > 15])  # Output: [20 25 30]\n",
    "\n",
    "# Select elements that are even\n",
    "print(arr[arr % 2 == 0])  # Output: [10 20 30]\n",
    "\n",
    "# Modifying elements that satisfy a condition\n",
    "arr[arr > 15] = 99\n",
    "print(arr)  # Output: [ 5 10 15 99 99 99]\n",
    "\n",
    "#Boolean indexing on a 2-dimensiopnal array\n",
    "arr2d = np.array([[1, 2, 3], [4, 5, 6], [7, 8, 9]])\n",
    "\n",
    "# Extract elements greater than 4\n",
    "print(arr2d[arr2d > 4])\n",
    "\n",
    "# Setting elements greater than 4 to zero\n",
    "arr2d[arr2d > 4] = 0\n",
    "print(arr2d)\n"
   ]
  },
  {
   "cell_type": "markdown",
   "metadata": {},
   "source": [
    "# NumPy Operations \n",
    "- NumPy Arithmetic Array Operations\n",
    "- NumPy Array Functions\n",
    "- NumPy Comparison/Logical Operations\n",
    "- NumPy Math Functions\n",
    "- NumPy Constants\n",
    "- NumPy Statistical Functions"
   ]
  },
  {
   "cell_type": "markdown",
   "metadata": {},
   "source": [
    "# NumPy Arithmetic Operations\n",
    "- add()\n",
    "- subtract()\n",
    "- multiply()\n",
    "- divide()\n",
    "- power()\n",
    "- mod()"
   ]
  },
  {
   "cell_type": "code",
   "execution_count": 7,
   "metadata": {},
   "outputs": [
    {
     "name": "stdout",
     "output_type": "stream",
     "text": [
      "[ 3  6  9 12]\n",
      "[-1  0  1  0]\n",
      "[ 2  9 20 36]\n",
      "[0.5  1.   1.25 1.  ]\n",
      "[    1    27   625 46656]\n",
      "[1 0 1 0]\n"
     ]
    }
   ],
   "source": [
    "first_array = ([1, 3, 5, 6])\n",
    "second_array = np.array([2,3,4,6])\n",
    "\n",
    "print(np.add(first_array, second_array))\n",
    "print(np.subtract(first_array, second_array))\n",
    "print(np.multiply(first_array, second_array))\n",
    "print(np.divide(first_array, second_array))\n",
    "print(np.power(first_array, second_array))\n",
    "print(np.mod(first_array, second_array))"
   ]
  },
  {
   "cell_type": "markdown",
   "metadata": {},
   "source": [
    "# NumPy Boradcasting \n",
    "- Broadcasting in NumPy allows it to perform airthmetic operations on arrays with different shapes"
   ]
  },
  {
   "cell_type": "code",
   "execution_count": 8,
   "metadata": {},
   "outputs": [
    {
     "name": "stdout",
     "output_type": "stream",
     "text": [
      "[ 4  8 12 16]\n"
     ]
    }
   ],
   "source": [
    "arr1 = np.array([1,2,3,4])\n",
    "arr2 = np.array(4)\n",
    "result = arr1 * arr2\n",
    "print(result)"
   ]
  },
  {
   "cell_type": "markdown",
   "metadata": {},
   "source": [
    "# NumPy Array Functions\n",
    "NumPy has various built-in functions for various purposes\n",
    "\n",
    "- **Array Creation Functions**: `np. array()`, `np. zeros()`, `np.ones ()` `np. empty()` etc\n",
    "- **Manipulation Functions**: `np.reshape()`, `np. transpose()`\n",
    "- **Mathematical Functions**: `np. add()`, `np. subtract()`, `np. sqrt()`, `np. power()`\n",
    "- **Statistical Functions**: `np. median()`, `np.mean ()`, `np.std()`, `np. var()`"
   ]
  },
  {
   "cell_type": "code",
   "execution_count": 9,
   "metadata": {},
   "outputs": [
    {
     "name": "stdout",
     "output_type": "stream",
     "text": [
      "11.666666666666666\n",
      "3.0\n",
      "20.295045919851695\n",
      "411.8888888888889\n"
     ]
    }
   ],
   "source": [
    "data = np.array([1,3,4,57,2,3])\n",
    "print(np.mean(data))\n",
    "print(np.median(data))\n",
    "print(np.std(data))\n",
    "print(np.var(data))"
   ]
  },
  {
   "cell_type": "markdown",
   "metadata": {},
   "source": [
    "# Array Manipulation Functions"
   ]
  },
  {
   "cell_type": "code",
   "execution_count": 10,
   "metadata": {},
   "outputs": [
    {
     "name": "stdout",
     "output_type": "stream",
     "text": [
      "[[1 2 3]\n",
      " [4 5 6]\n",
      " [7 8 9]]\n",
      "[[1 4 7]\n",
      " [2 5 8]\n",
      " [3 6 9]]\n"
     ]
    }
   ],
   "source": [
    "numbers = np.array([1, 2, 3, 4, 5, 6, 7, 8, 9])\n",
    "\n",
    "# Reshape the 1D array into a 2D array\n",
    "reshaped_array = np.reshape(numbers, (3, 3))\n",
    "print(reshaped_array)\n",
    "\n",
    "# Transpose the 2D array\n",
    "transposed_array = np.transpose(reshaped_array)\n",
    "print(transposed_array)"
   ]
  },
  {
   "cell_type": "markdown",
   "metadata": {},
   "source": [
    "# NumPy Matrix Operations\n",
    "- Matrix Multiplication `np.matmul()`\n",
    "- Dot Product `np.dot()`\n",
    "- Cross Product `np.cross()`\n",
    "- Transpose `np.transpose`\n",
    "- Inverse `np.linalg inverse()`\n",
    "- Determinant `linalg.det()` linalg=>Linear Algebra\n",
    "- Norm `np.linalg.norm()`\n",
    "- Trace `np.linalg.trace()`"
   ]
  },
  {
   "cell_type": "code",
   "execution_count": 11,
   "metadata": {},
   "outputs": [
    {
     "name": "stdout",
     "output_type": "stream",
     "text": [
      "[[19 28]\n",
      " [43 64]]\n",
      "32\n"
     ]
    }
   ],
   "source": [
    "mat_1 = [\n",
    "            [1,2,3],\n",
    "            [4,5,6]\n",
    "        ] # 2,3\n",
    "mat_2 = [\n",
    "            [1,2],\n",
    "            [3,4],\n",
    "            [4,6]\n",
    "        ] # 3,2\n",
    "\n",
    "result = np.matmul(mat_1,mat_2)\n",
    "print(result)\n",
    "\n",
    "vec1 = [1,2,3]\n",
    "vec2 = [4,5,6]\n",
    "dot_prod = np.dot(vec1,vec2)\n",
    "dot_prod\n",
    "\n",
    "first_array = ([1,2,3])\n",
    "second_array = ([4,5,6])\n",
    "print(np.matmul(first_array,second_array))"
   ]
  },
  {
   "cell_type": "markdown",
   "metadata": {},
   "source": [
    "# NumPy Mathematical and Statistical Functions"
   ]
  },
  {
   "cell_type": "code",
   "execution_count": 12,
   "metadata": {},
   "outputs": [
    {
     "name": "stdout",
     "output_type": "stream",
     "text": [
      "^^^^^^^^^^^^ Mathematical Functions ^^^^^^^^^^^^\n",
      "[1.         1.41421356 1.73205081 2.        ]\n",
      "************ Statistical Functions ************\n",
      "Mean: 61.3\n",
      "Median: 60.5\n",
      "Minimum marks: 10\n",
      "Maximum marks: 100\n"
     ]
    }
   ],
   "source": [
    "numbers = [1,2,3,4]\n",
    "\"\"\"^^^^^^^^^^^^ Mathematical Functions ^^^^^^^^^^^^\"\"\"\n",
    "print(\"\"\"^^^^^^^^^^^^ Mathematical Functions ^^^^^^^^^^^^\"\"\")\n",
    "sqrt_numbers = np.sqrt(numbers)\n",
    "print(sqrt_numbers)\n",
    "square_numbers = np.square(sqrt_numbers)\n",
    "\n",
    "\"\"\"************ Statistical Functions ************\"\"\"\n",
    "print(\"\"\"************ Statistical Functions ************\"\"\")\n",
    "students_marks = np.array([30,50,67,10,100,99,98,71,54,34])\n",
    "mean_marks = np.mean(students_marks)\n",
    "print(\"Mean:\",mean_marks)\n",
    "\n",
    "# compute the median of marks\n",
    "median_marks = np.median(students_marks)\n",
    "print(\"Median:\",median_marks)\n",
    "\n",
    "# find the minimum and maximum marks\n",
    "min_marks = np.min(students_marks)\n",
    "print(\"Minimum marks:\", min_marks)\n",
    "\n",
    "max_marks = np.max(students_marks)\n",
    "print(\"Maximum marks:\", max_marks)"
   ]
  },
  {
   "cell_type": "markdown",
   "metadata": {},
   "source": [
    "# Misc. Mathematical Functional\n",
    "- Trigonometric : sine(),cos(),tan(),cot(),sec(),cosec(), tangent()\n",
    "- Hyperbolic: sineh(),cosh(),tanh() etc\n",
    "- Logarithmic: log(), exp(), log10()\n",
    "- round(), floor(),ceil(), absolute(),"
   ]
  },
  {
   "cell_type": "code",
   "execution_count": 13,
   "metadata": {},
   "outputs": [
    {
     "data": {
      "image/png": "[encoded data removed]",
      "text/plain": [
       "<Figure size 1000x500 with 1 Axes>"
      ]
     },
     "metadata": {},
     "output_type": "display_data"
    },
    {
     "data": {
      "image/png": "[encoded data removed]",
      "text/plain": [
       "<Figure size 1000x500 with 1 Axes>"
      ]
     },
     "metadata": {},
     "output_type": "display_data"
    }
   ],
   "source": [
    "import numpy as np\n",
    "import matplotlib.pyplot as plt\n",
    "\n",
    "# Generate x values \n",
    "x = np.linspace(-2*np.pi, 2 * np.pi,100)\n",
    "\n",
    "#Calculate y values \n",
    "y_sin = np.sin(x)\n",
    "\n",
    "# create the plot \n",
    "plt.figure(figsize = (10,5))\n",
    "\n",
    "# plot the sine curve and its \n",
    "plt.plot(x,y_sin, label = 'Sine Curve', color = 'red')\n",
    "\n",
    "# Add grid\n",
    "plt.grid(True)\n",
    "\n",
    "# Add labels and legend\n",
    "plt.xlabel('x-axis')\n",
    "plt.ylabel('y-axis')\n",
    "plt.title('Sine Curve with Grid')\n",
    "plt.legend()\n",
    "\n",
    "# Display the plot\n",
    "plt.show()\n",
    "\n",
    "\n",
    "\n",
    "\n",
    "# Generate x values \n",
    "x = np.linspace(-2*np.pi, 2 * np.pi,100)\n",
    "\n",
    "#Calculate y values \n",
    "y_sin = np.cos(x)\n",
    "\n",
    "# create the plot \n",
    "plt.figure(figsize = (10,5))\n",
    "\n",
    "# plot the sine curve and its \n",
    "plt.plot(x,y_sin, label = 'Cos Curve', color = 'red')\n",
    "\n",
    "# Add grid\n",
    "plt.grid(True)\n",
    "\n",
    "# Add labels and legend\n",
    "plt.xlabel('x-axis')\n",
    "plt.ylabel('y-axis')\n",
    "plt.title('Cos Curve with Grid')\n",
    "plt.legend()\n",
    "\n",
    "# Display the plot\n",
    "plt.show()"
   ]
  },
  {
   "cell_type": "markdown",
   "metadata": {},
   "source": [
    "# Find out the similarity between following two sentences using cosine similarity\n",
    "- Sky is Blue\n",
    "- Ocean is Blue\n",
    "\n",
    "# Use TD-IDF Algorithm to Vectorize the sentences\n",
    "`TF (t) = total number of occurence of term t in sentence (doc)/ total length of words on sentence (doc)`\n",
    "\n",
    "`IDF(t) = log (total sentence (doc) length) / no of documents contains term t`\n",
    "\n",
    "`tf-idf score = tf *idf`"
   ]
  },
  {
   "cell_type": "code",
   "execution_count": 35,
   "metadata": {},
   "outputs": [
    {
     "name": "stdout",
     "output_type": "stream",
     "text": [
      "[0.27465307216702745, 0.27465307216702745, 0.27465307216702745, 0.27465307216702745]\n",
      "[0.27465307216702745, 0.17328679513998632, 0.17328679513998632, 0.17328679513998632]\n"
     ]
    },
    {
     "data": {
      "text/plain": [
       "0.9764432487115033"
      ]
     },
     "execution_count": 35,
     "metadata": {},
     "output_type": "execute_result"
    }
   ],
   "source": [
    "import numpy as np\n",
    "\n",
    "def tf_idf_vectorizer(word, sentence):\n",
    "    tf = sentence.count(word) / len(sentence.split())\n",
    "    total_doc_size = 2\n",
    "    idf = np.log1p(total_doc_size / 1 if word in sentence1 else 0 + 1 if word in sentence2 else 0)\n",
    "    return tf * idf\n",
    "\n",
    "sentence1 = 'The Ocean is Blue'.lower()\n",
    "sentence2 = 'I Love my Country'.lower()\n",
    "vec1 = [tf_idf_vectorizer(word,sentence1) for word in sentence1.split()]\n",
    "vec2 = [tf_idf_vectorizer(word,sentence2) for word in sentence2.split()]\n",
    "print (vec1)\n",
    "print (vec2)\n",
    "similarity = np.dot(vec1,vec2) / (np.linalg.norm(vec1) * np.linalg.norm(vec2))\n",
    "similarity\n",
    "#vec2 = [1,4,5,6]\n",
    "\n",
    "#similarity = np.dot(vec1, vec2) / (np.linalg.norm(vec1) * np.linalg.norm(vec2))\n",
    "#similarity \n",
    "\n",
    "#vec1[tf_idf_vectorizer(word,sentence) for word in sentence1.split()]\n",
    "#vec1 = np.array(vec1)\n",
    "#vec2 = [tf_idf_vectorizer(word,sentence) for word in sentence2.split()]"
   ]
  },
  {
   "cell_type": "code",
   "execution_count": null,
   "metadata": {},
   "outputs": [],
   "source": []
  }
 ],
 "metadata": {
  "kernelspec": {
   "display_name": "base",
   "language": "python",
   "name": "python3"
  },
  "language_info": {
   "codemirror_mode": {
    "name": "ipython",
    "version": 3
   },
   "file_extension": ".py",
   "mimetype": "text/x-python",
   "name": "python",
   "nbconvert_exporter": "python",
   "pygments_lexer": "ipython3",
   "version": "3.12.4"
  }
 },
 "nbformat": 4,
 "nbformat_minor": 2
}
