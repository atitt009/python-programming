{
 "cells": [
  {
   "cell_type": "markdown",
   "metadata": {},
   "source": [
    "## Atit Bhattarai\n",
    "### This is my first Hello World program"
   ]
  },
  {
   "cell_type": "code",
   "execution_count": 20,
   "metadata": {},
   "outputs": [
    {
     "name": "stdout",
     "output_type": "stream",
     "text": [
      "hello world\n"
     ]
    }
   ],
   "source": [
    "hello = \"hello world\"\n",
    "print(hello)"
   ]
  },
  {
   "cell_type": "markdown",
   "metadata": {},
   "source": [
    "### Code for Sum Diff Product Div Rem"
   ]
  },
  {
   "cell_type": "code",
   "execution_count": 21,
   "metadata": {},
   "outputs": [
    {
     "name": "stdout",
     "output_type": "stream",
     "text": [
      "5 10\n",
      "15\n",
      "-5\n",
      "50\n",
      "0.5\n",
      "5\n"
     ]
    }
   ],
   "source": [
    "a = 5\n",
    "b = 10\n",
    "sum_of_a_b= a + b\n",
    "diff_of_a_b= a- b\n",
    "product_of_a_b = a*b\n",
    "div_of_a_b = a/b\n",
    "rem_a_b = a % b\n",
    "\n",
    "print(a ,b)\n",
    "print(sum_of_a_b)\n",
    "print(diff_of_a_b)\n",
    "print(product_of_a_b)\n",
    "print(div_of_a_b)\n",
    "print(rem_a_b)"
   ]
  },
  {
   "cell_type": "markdown",
   "metadata": {},
   "source": [
    "## Hello"
   ]
  },
  {
   "cell_type": "code",
   "execution_count": 22,
   "metadata": {},
   "outputs": [
    {
     "name": "stdout",
     "output_type": "stream",
     "text": [
      "14\n",
      "first last name Atit Bhattarai\n",
      "A\n",
      "Atit Bhattarai\n",
      "A i\n"
     ]
    },
    {
     "data": {
      "text/plain": [
       "1277"
      ]
     },
     "execution_count": 22,
     "metadata": {},
     "output_type": "execute_result"
    }
   ],
   "source": [
    "name = 'Atit Bhattarai'\n",
    "# length of the string\n",
    "total_no_of_chars = len(name) \n",
    "print(total_no_of_chars)\n",
    "#sub-string\n",
    "first_name = name [0:4] # 0,1,2,3\n",
    "last_name = name[5:14]\n",
    "print(\"first last name\",first_name,last_name)\n",
    "# 1st character\n",
    "first_char = name[0]\n",
    "print(first_char)\n",
    "\n",
    "#last character\n",
    "last_char = name[len(name)-1]\n",
    "print(first_name, last_name)\n",
    "print (first_char, last_char)\n",
    "\n",
    "paragraph = \"\"\"Event Overview: \"Kathmandu Calling Kandara\" - 32nd Anniversary Tour\n",
    "Nepal’s legendary band, Kandara, is set to bring their electrifying live performance to Kathmandu for the first time ever! As part of their 32nd anniversary celebration, this iconic band, which has been shaping the Nepali pop and folk-rock scene since 1992, will perform at Club LOD on 9th November 2024. This is a historic event for Nepali music lovers, as Kandara's music has been instrumental in defining the modern musical landscape of Nepal over the last three decades.\n",
    "Kandara’s influence in blending traditional Nepali folk melodies with contemporary rock and pop has earned them a loyal fan base across generations. Hits like \"Timi Pari\", \"Lekaki hey maya\", and \"Hongkong Pokhara\" have left a  legacy, making this 32-year journey one worth celebrating. Their music speaks to Nepali roots while embracing modern sounds, and now, with their Kathmandu Calling Kandara campaign, they are ready to make an unforgettable mark in the capital city.\n",
    "Don’t miss this once-in-a-lifetime opportunity to witness Kandara’s first-ever live performance in Kathmandu. Join the celebration of 32 years of Nepali music evolution at one of the most exclusive venues, Club LOD, and be part of Kandara's continued legacy.\n",
    "\n",
    "\"\"\"\n",
    "len(paragraph)"
   ]
  },
  {
   "cell_type": "markdown",
   "metadata": {},
   "source": [
    "### Loop if else(iteration)\n"
   ]
  },
  {
   "cell_type": "code",
   "execution_count": 23,
   "metadata": {},
   "outputs": [
    {
     "name": "stdout",
     "output_type": "stream",
     "text": [
      "b is greater than a\n",
      "I have to wake up at 5 am\n",
      "I have to go to college\n",
      "Its Wednesday\n"
     ]
    }
   ],
   "source": [
    "a = 10\n",
    "b = 15\n",
    "if a > b:\n",
    "    print (\"a is greater than b\")\n",
    "else:\n",
    "    print (\"b is greater than a\")\n",
    "\n",
    "day = 4\n",
    "if day == 4:\n",
    "    print(\"I have to wake up at 5 am\")\n",
    "    print(\"I have to go to college\")\n",
    "    print(\"Its Wednesday\")"
   ]
  },
  {
   "cell_type": "code",
   "execution_count": 24,
   "metadata": {},
   "outputs": [
    {
     "name": "stdout",
     "output_type": "stream",
     "text": [
      "It is time for math\n"
     ]
    }
   ],
   "source": [
    "#if time is in between 10-12 print \"It is time for math\" 12-14 print \"It is time for DSA\" more than 14 print \n",
    "# \"It is time for English\"\n",
    "time = 10\n",
    "if time>=10 and time<12:\n",
    "    print(\"It is time for math\")\n",
    "elif time>=12 and time<14: \n",
    "    print(\"It is time for DSA\")\n",
    "elif time>=14:\n",
    "    print(\"It is time for English\")\n",
    "else:\n",
    "    print(\"Not time for class\")\n"
   ]
  },
  {
   "cell_type": "markdown",
   "metadata": {},
   "source": [
    "### Loop (iteration)\n",
    "#### while for"
   ]
  },
  {
   "cell_type": "code",
   "execution_count": 25,
   "metadata": {},
   "outputs": [
    {
     "name": "stdout",
     "output_type": "stream",
     "text": [
      "Hello 1\n",
      "Hello 2\n",
      "Hello 3\n",
      "Hello 4\n",
      "Hello 5\n",
      "Hello 6\n",
      "Hello 7\n",
      "Hello 8\n",
      "Hello 9\n",
      "Hello 10\n"
     ]
    }
   ],
   "source": [
    "from time import sleep\n",
    "counter = 1\n",
    "while counter<=10:\n",
    "    print(f\"Hello {counter}\")\n",
    "    counter += 1 \n",
    "    sleep(1)"
   ]
  },
  {
   "cell_type": "code",
   "execution_count": 26,
   "metadata": {},
   "outputs": [
    {
     "name": "stdout",
     "output_type": "stream",
     "text": [
      "5050\n"
     ]
    }
   ],
   "source": [
    "# find the sum if first n=100 natural numbers using while loop\n",
    "i = 1\n",
    "n = 100\n",
    "sum = 0\n",
    "while i<=n:\n",
    "    sum += i\n",
    "    i+=1\n",
    "print(sum)\n"
   ]
  },
  {
   "cell_type": "code",
   "execution_count": 27,
   "metadata": {},
   "outputs": [
    {
     "name": "stdout",
     "output_type": "stream",
     "text": [
      "2550 2500\n"
     ]
    }
   ],
   "source": [
    "# find the sum of first n even numbers, n=100 using while loop\n",
    "i = 1\n",
    "n = 100\n",
    "sum_of_even_number = 0\n",
    "sum_of_odd_number = 0\n",
    "while i<=n:\n",
    "    if i%2 == 0:\n",
    "        sum_of_even_number += i\n",
    "    else:\n",
    "        sum_of_odd_number += i\n",
    "    i+=1\n",
    "print(sum_of_even_number, sum_of_odd_number)"
   ]
  },
  {
   "cell_type": "markdown",
   "metadata": {},
   "source": [
    "## Python List\n",
    "list is ordered collection of items"
   ]
  },
  {
   "cell_type": "code",
   "execution_count": 28,
   "metadata": {},
   "outputs": [
    {
     "name": "stdout",
     "output_type": "stream",
     "text": [
      "1\n",
      "6\n",
      "5\n"
     ]
    }
   ],
   "source": [
    "numbers = [1,2,3,4,5,5]\n",
    "students = ['Ram','Hari']\n",
    "\n",
    "#access elements from list\n",
    "first_number = numbers[0]\n",
    "print(first_number)\n",
    "#count total number of items\n",
    "total_items = len(numbers)\n",
    "print(total_items)\n",
    "#last element\n",
    "last_element = numbers[total_items-1]\n",
    "print(last_element)"
   ]
  },
  {
   "cell_type": "markdown",
   "metadata": {},
   "source": [
    "# list methods\n",
    "- append (appends new items at the end)\n",
    "- pop (removes last element)\n",
    "- count (return total number of items)\n",
    "- insert (insert item at particular index)\n",
    "- extend (extend the list)\n",
    "- copy (copy items)\n",
    "- clear (clear the items)"
   ]
  },
  {
   "cell_type": "code",
   "execution_count": 29,
   "metadata": {},
   "outputs": [
    {
     "name": "stdout",
     "output_type": "stream",
     "text": [
      "[1, 4, 4, 5, 6]\n",
      "[1, 4, 4, 5, 6, 8]\n",
      "[1, 4, 4, 5, 6]\n",
      "[1, 4, 4, 5]\n",
      "[1, 4, 3, 4, 5]\n",
      "2\n",
      "[1, 2, 3, 4]\n",
      "[]\n"
     ]
    }
   ],
   "source": [
    "numbers = [1,4,4,5,6]\n",
    "print(numbers)\n",
    "# append items\n",
    "numbers.append(8)\n",
    "print(numbers)\n",
    "# remove last item\n",
    "numbers.pop()\n",
    "print(numbers)\n",
    "#remove\n",
    "numbers.remove(6)\n",
    "print(numbers)\n",
    "#insert\n",
    "numbers.insert(2,3)\n",
    "print(numbers)\n",
    "#count\n",
    "print(numbers.count(4))\n",
    "#extend\n",
    "numbers_1 = [1,2]\n",
    "numbers_2 = [3,4]\n",
    "numbers_1.extend(numbers_2)\n",
    "print(numbers_1)\n",
    "#clear\n",
    "numbers_1.clear()\n",
    "print(numbers_1)"
   ]
  },
  {
   "cell_type": "code",
   "execution_count": 36,
   "metadata": {},
   "outputs": [
    {
     "name": "stdout",
     "output_type": "stream",
     "text": [
      "6 5\n",
      "['Hari', 'Prasad']\n",
      "Hari exist in students\n"
     ]
    }
   ],
   "source": [
    "a = 5\n",
    "b = a\n",
    "a = a+1\n",
    "print(a,b)\n",
    "\n",
    "students = ['Hari','Prasad']\n",
    "new_students = students.copy()\n",
    "students.append('Atit')\n",
    "print(new_students)\n",
    "if 'Hari' in students:\n",
    "    print('Hari exist in students')\n"
   ]
  },
  {
   "cell_type": "markdown",
   "metadata": {},
   "source": [
    "### loop through list"
   ]
  },
  {
   "cell_type": "code",
   "execution_count": 31,
   "metadata": {},
   "outputs": [
    {
     "name": "stdout",
     "output_type": "stream",
     "text": [
      "7\n",
      "27\n"
     ]
    }
   ],
   "source": [
    "#find the sum of all items of given lists\n",
    "numbers = [1,2,3,4,5,6,6]\n",
    "\n",
    "total_items = len(numbers)\n",
    "print(total_items)\n",
    "index=0\n",
    "sum=0\n",
    "\n",
    "while index<total_items:\n",
    "    sum += numbers[index]\n",
    "    index+=1\n",
    "print(sum)"
   ]
  },
  {
   "cell_type": "markdown",
   "metadata": {},
   "source": [
    "### find the max value from given lists\n"
   ]
  },
  {
   "cell_type": "code",
   "execution_count": 32,
   "metadata": {},
   "outputs": [
    {
     "name": "stdout",
     "output_type": "stream",
     "text": [
      "6\n",
      "-3\n"
     ]
    }
   ],
   "source": [
    "numbers = (-10,-3,-9,-50,-100,-1009)\n",
    "total_items = len(numbers)\n",
    "print(total_items)\n",
    "\n",
    "index = 0\n",
    "max_value = numbers[0]\n",
    "while index<total_items:\n",
    "    item = numbers[index]\n",
    "    if item>max_value:\n",
    "        max_value = item\n",
    "    index+=1\n",
    "print(max_value)\n"
   ]
  },
  {
   "cell_type": "markdown",
   "metadata": {},
   "source": [
    "### find the min value from given lists\n"
   ]
  },
  {
   "cell_type": "code",
   "execution_count": 33,
   "metadata": {},
   "outputs": [
    {
     "name": "stdout",
     "output_type": "stream",
     "text": [
      "-1009\n"
     ]
    }
   ],
   "source": [
    "numbers = [-10,-3,-9,-50,-100,-1009]\n",
    "index = 0\n",
    "min_value = numbers[0]\n",
    "total_items = len(numbers)\n",
    "while index<total_items:\n",
    "    item = numbers[index]\n",
    "    if item<min_value:\n",
    "        min_value = item\n",
    "    index+=1\n",
    "   \n",
    "print (min_value)\n"
   ]
  },
  {
   "cell_type": "markdown",
   "metadata": {},
   "source": [
    "### join all list items into single item"
   ]
  },
  {
   "cell_type": "code",
   "execution_count": 34,
   "metadata": {},
   "outputs": [
    {
     "name": "stdout",
     "output_type": "stream",
     "text": [
      "Ram-Hari-Shyam\n"
     ]
    }
   ],
   "source": [
    "students=['Ram','Hari','Shyam']\n",
    "all_students = '-'.join(students)\n",
    "print(all_students)"
   ]
  }
 ],
 "metadata": {
  "kernelspec": {
   "display_name": "Python 3",
   "language": "python",
   "name": "python3"
  },
  "language_info": {
   "codemirror_mode": {
    "name": "ipython",
    "version": 3
   },
   "file_extension": ".py",
   "mimetype": "text/x-python",
   "name": "python",
   "nbconvert_exporter": "python",
   "pygments_lexer": "ipython3",
   "version": "3.12.7"
  }
 },
 "nbformat": 4,
 "nbformat_minor": 2
}
