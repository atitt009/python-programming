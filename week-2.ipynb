{
 "cells": [
  {
   "cell_type": "markdown",
   "metadata": {},
   "source": [
    "# Atit Bhattarai"
   ]
  },
  {
   "cell_type": "markdown",
   "metadata": {},
   "source": [
    "# for Loop\n",
    "iterate over list, range (enumarator)"
   ]
  },
  {
   "cell_type": "code",
   "execution_count": 11,
   "metadata": {},
   "outputs": [
    {
     "name": "stdout",
     "output_type": "stream",
     "text": [
      "ALL NUMBERS\n",
      "1\n",
      "2\n",
      "3\n",
      "4\n",
      "5\n",
      "3\n",
      "11\n",
      "100\n",
      "\n",
      "EVEN NUMBERS\n",
      "2\n",
      "4\n",
      "100\n",
      "[2, 4, 100]\n",
      "\n",
      "NO DUPLICATES\n",
      "[1, 2, 3, 4, 5, 22, 100]\n"
     ]
    }
   ],
   "source": [
    "numbers = [1,2,3,4,5,3,11,100] #list of int\n",
    "even_list = []\n",
    "#iterate over list\n",
    "print(\"ALL NUMBERS\")\n",
    "for num in numbers:\n",
    "    print(num)\n",
    "print( )\n",
    "\n",
    "# create new list of even numbers from the given list\n",
    "print('EVEN NUMBERS')\n",
    "for num in numbers:\n",
    "    if num%2==0:\n",
    "        print(num)\n",
    "        even_list.append(num)\n",
    "print(even_list)\n",
    "print( )\n",
    "\n",
    "\n",
    "\n",
    "numbers = [1,1,2,3,4,5,3,22,100] # list of int\n",
    "# create a new list by removing duplicate items from the given list\n",
    "print('NO DUPLICATES')\n",
    "unique_numbers = []\n",
    "for num in numbers: \n",
    "    if num not in unique_numbers:\n",
    "        unique_numbers.append(num)\n",
    "print(unique_numbers)"
   ]
  },
  {
   "cell_type": "markdown",
   "metadata": {},
   "source": [
    "# Range \n",
    "range (start, stop, step)"
   ]
  },
  {
   "cell_type": "code",
   "execution_count": 12,
   "metadata": {},
   "outputs": [
    {
     "name": "stdout",
     "output_type": "stream",
     "text": [
      "0\n",
      "1\n",
      "2\n",
      "3\n",
      "4\n",
      "5\n",
      "6\n",
      "7\n",
      "8\n",
      "9\n",
      "10\n",
      "11\n",
      "12\n",
      "13\n",
      "14\n",
      "15\n",
      "16\n",
      "17\n",
      "18\n",
      "19\n",
      "20\n",
      "21\n",
      "22\n",
      "23\n",
      "24\n",
      "25\n",
      "26\n",
      "27\n",
      "28\n",
      "29\n",
      "30\n",
      "31\n",
      "32\n",
      "33\n",
      "34\n",
      "35\n",
      "36\n",
      "37\n",
      "38\n",
      "39\n",
      "40\n",
      "41\n",
      "42\n",
      "43\n",
      "44\n",
      "45\n",
      "46\n",
      "47\n",
      "48\n",
      "49\n",
      "50\n",
      "51\n",
      "52\n",
      "53\n",
      "54\n",
      "55\n",
      "56\n",
      "57\n",
      "58\n",
      "59\n",
      "60\n",
      "61\n",
      "62\n",
      "63\n",
      "64\n",
      "65\n",
      "66\n",
      "67\n",
      "68\n",
      "69\n",
      "70\n",
      "71\n",
      "72\n",
      "73\n",
      "74\n",
      "75\n",
      "76\n",
      "77\n",
      "78\n",
      "79\n",
      "80\n",
      "81\n",
      "82\n",
      "83\n",
      "84\n",
      "85\n",
      "86\n",
      "87\n",
      "88\n",
      "89\n",
      "90\n",
      "91\n",
      "92\n",
      "93\n",
      "94\n",
      "95\n",
      "96\n",
      "97\n",
      "98\n",
      "99\n",
      "100\n",
      "101\n"
     ]
    }
   ],
   "source": [
    "range_of_100 = range(1,100)\n",
    "\n",
    "sum = 0\n",
    "for i in range(0,101): #for i=0; i++\n",
    "    print(i)\n",
    "    sum+=1\n",
    "print(sum)"
   ]
  },
  {
   "cell_type": "markdown",
   "metadata": {},
   "source": [
    "# Inline for loop"
   ]
  },
  {
   "cell_type": "code",
   "execution_count": 16,
   "metadata": {},
   "outputs": [
    {
     "name": "stdout",
     "output_type": "stream",
     "text": [
      "[2, 6, 88]\n",
      "[1, 200, 3, 5, 600, 8800, 19]\n"
     ]
    }
   ],
   "source": [
    "numbers = [1,2,3,5,6,88,19]\n",
    "list_of_even_numbers = [num for num in numbers if num%2== 0]\n",
    "print(list_of_even_numbers)\n",
    "\n",
    "numbers = [1,2,3,5,6,88,19]\n",
    "transformed_list = [(num *100 if num%2==0 else num) for num in numbers]\n",
    "print(transformed_list)"
   ]
  },
  {
   "cell_type": "markdown",
   "metadata": {},
   "source": [
    "# Functions\n",
    "## Parameters and Arguments"
   ]
  },
  {
   "cell_type": "code",
   "execution_count": 31,
   "metadata": {},
   "outputs": [
    {
     "name": "stdout",
     "output_type": "stream",
     "text": [
      "Sum\n",
      "55\n",
      "110\n",
      "\n",
      "Multiplication\n",
      "8\n"
     ]
    }
   ],
   "source": [
    "print(\"Sum\")\n",
    "def add(x,y):\n",
    "    sum = x+y\n",
    "    return sum\n",
    "\n",
    "sum_of_two_numbers = add(x=10, y=45)\n",
    "print(sum_of_two_numbers)\n",
    "print(add(10,100))\n",
    "print()\n",
    "\n",
    "print(\"Multiplication\")\n",
    "def multiply(x,y):\n",
    "    multiply = x*y\n",
    "    return multiply\n",
    "\n",
    "print(multiply(2,4))"
   ]
  },
  {
   "cell_type": "markdown",
   "metadata": {},
   "source": [
    "# Default Arguments: "
   ]
  },
  {
   "cell_type": "code",
   "execution_count": 1,
   "metadata": {},
   "outputs": [
    {
     "name": "stdout",
     "output_type": "stream",
     "text": [
      "Hello, Hari!\n",
      "8\n"
     ]
    }
   ],
   "source": [
    "def greet(name = \"World\"):\n",
    "    print(f'Hello, {name}!')\n",
    "\n",
    "greet(\"Hari\")\n",
    "\n",
    "def sum(a=0,b=0):\n",
    "    return a+b\n",
    "\n",
    "print(sum(a=5,b=3))"
   ]
  },
  {
   "cell_type": "markdown",
   "metadata": {},
   "source": [
    "# Arbitary Arguments"
   ]
  },
  {
   "cell_type": "code",
   "execution_count": 2,
   "metadata": {},
   "outputs": [
    {
     "name": "stdout",
     "output_type": "stream",
     "text": [
      "1 2\n",
      "(3, 4, 5, 6)\n",
      "None\n"
     ]
    }
   ],
   "source": [
    "def add(a,b,*args):\n",
    "    print(a,b)\n",
    "    print(args)\n",
    "\n",
    "a = add(1,2,3,4,5,6)\n",
    "print(a)"
   ]
  },
  {
   "cell_type": "markdown",
   "metadata": {},
   "source": [
    "# Return Statement"
   ]
  },
  {
   "cell_type": "code",
   "execution_count": 7,
   "metadata": {},
   "outputs": [
    {
     "name": "stdout",
     "output_type": "stream",
     "text": [
      "Number is even\n"
     ]
    }
   ],
   "source": [
    "def is_even_number(number):\n",
    "    if number %2==0:\n",
    "\n",
    "        return 'Number is even'\n",
    "    \n",
    "    return 'Number is odd'     \n",
    "\n",
    "\n",
    "check_number = is_even_number(4)\n",
    "print(check_number)"
   ]
  },
  {
   "cell_type": "code",
   "execution_count": 6,
   "metadata": {},
   "outputs": [
    {
     "name": "stdout",
     "output_type": "stream",
     "text": [
      "50\n"
     ]
    }
   ],
   "source": [
    "# write a function that accepts three values (arguments) x,y,operation\n",
    "# where x => int, y->int, operation -> string (+,-,*,/)\n",
    "# function should return the output based on the operation \n",
    "# i.e. if operation =+ add (x+y)\n",
    "# operation = - substract and so on (x-y)\n",
    "\n",
    "def cal(x:int,y:int,operation:str):\n",
    "    if operation == '+':\n",
    "        return x+y\n",
    "    elif operation == '-':\n",
    "        return x-y\n",
    "    elif operation == '*':\n",
    "        return x*y\n",
    "    elif operation == '/':\n",
    "        if y==0:\n",
    "            print('Denominator cannot be zero')\n",
    "            return\n",
    "        else:\n",
    "            return x/y\n",
    "    else:\n",
    "        return 'THANK YOU! Visit again'\n",
    "\n",
    "\n",
    "result = cal(5,10,'*')\n",
    "print(result)\n"
   ]
  },
  {
   "cell_type": "markdown",
   "metadata": {},
   "source": [
    "# Lambda Function"
   ]
  },
  {
   "cell_type": "code",
   "execution_count": 7,
   "metadata": {},
   "outputs": [
    {
     "name": "stdout",
     "output_type": "stream",
     "text": [
      "16\n"
     ]
    }
   ],
   "source": [
    "square = lambda x: x ** 2\n",
    "print(square(4)) # output: 16"
   ]
  },
  {
   "cell_type": "markdown",
   "metadata": {},
   "source": [
    "# Questions \n",
    "- Write a function swap two numbers without using a temporary variable\n",
    "- write a function determine if a string is a palindrome (palindrome is if we revise it has same value)\n",
    "- write a function to count the number of vowels in a given string "
   ]
  },
  {
   "cell_type": "code",
   "execution_count": 9,
   "metadata": {},
   "outputs": [
    {
     "name": "stdout",
     "output_type": "stream",
     "text": [
      "5 4\n"
     ]
    },
    {
     "data": {
      "text/plain": [
       "(5, 4)"
      ]
     },
     "execution_count": 9,
     "metadata": {},
     "output_type": "execute_result"
    }
   ],
   "source": [
    "def swap_numbers(a,b):\n",
    "    a=a+b\n",
    "    b=a-b\n",
    "    a=a-b\n",
    "    print(a,b)\n",
    "    return a, b\n",
    "swap_numbers(4,5)"
   ]
  },
  {
   "cell_type": "markdown",
   "metadata": {},
   "source": [
    "- write a function determine if a string is a palindrome (palindrome is if we revise it has same value)"
   ]
  },
  {
   "cell_type": "code",
   "execution_count": 12,
   "metadata": {},
   "outputs": [
    {
     "data": {
      "text/plain": [
       "True"
      ]
     },
     "execution_count": 12,
     "metadata": {},
     "output_type": "execute_result"
    }
   ],
   "source": [
    "input = 'WOW'\n",
    "input == input[::-1]\n",
    "\n",
    "def is_palindrome(input):\n",
    "    if input == input[::-1]:\n",
    "        return True\n",
    "    return False\n",
    "\n",
    "is_palindrome('WOW')"
   ]
  },
  {
   "cell_type": "markdown",
   "metadata": {},
   "source": [
    "- write a function to count the number of vowels in a given string "
   ]
  },
  {
   "cell_type": "code",
   "execution_count": 15,
   "metadata": {},
   "outputs": [
    {
     "name": "stdout",
     "output_type": "stream",
     "text": [
      "3\n"
     ]
    }
   ],
   "source": [
    "def count_vowels(sentence):\n",
    "    vowels = 'aeiou'\n",
    "    total_vowels = 0\n",
    "    for char in sentence:\n",
    "        if char.lower() in vowels:\n",
    "            total_vowels+=1\n",
    "    return total_vowels\n",
    "\n",
    "total_vowels = count_vowels('HELLO worls')\n",
    "print(total_vowels)"
   ]
  }
 ],
 "metadata": {
  "kernelspec": {
   "display_name": "Python 3",
   "language": "python",
   "name": "python3"
  },
  "language_info": {
   "codemirror_mode": {
    "name": "ipython",
    "version": 3
   },
   "file_extension": ".py",
   "mimetype": "text/x-python",
   "name": "python",
   "nbconvert_exporter": "python",
   "pygments_lexer": "ipython3",
   "version": "3.12.7"
  }
 },
 "nbformat": 4,
 "nbformat_minor": 2
}
